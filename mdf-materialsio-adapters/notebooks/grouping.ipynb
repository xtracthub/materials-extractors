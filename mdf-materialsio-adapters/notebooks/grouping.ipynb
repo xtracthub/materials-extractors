{
 "cells": [
  {
   "cell_type": "markdown",
   "metadata": {},
   "source": [
    "# Demonstrate Grouping Methods\n",
    "This notebook demonstrates the various grouping methods that are available in `mdf_matio`."
   ]
  },
  {
   "cell_type": "code",
   "execution_count": 1,
   "metadata": {},
   "outputs": [],
   "source": [
    "from mdf_matio.grouping import groupby_directory, groupby_file\n",
    "from materials_io.utils.interface import ParseResult\n",
    "import os"
   ]
  },
  {
   "cell_type": "markdown",
   "metadata": {},
   "source": [
    "## Make Example Files\n",
    "The grouping operations all operate on the `ParseResult` objects returned by MaterialsIO.\n",
    "None of the grouping operations assume that you have access to these files and operate purely on the infomration available in these records."
   ]
  },
  {
   "cell_type": "code",
   "execution_count": 2,
   "metadata": {},
   "outputs": [],
   "source": [
    "example_files = [\n",
    "    ParseResult(('a.in',), 'fake', {}),\n",
    "    ParseResult((os.path.join('d', 'a.in'), 'a.in',), 'fake', {}),\n",
    "    ParseResult((os.path.join('d', 'a.in'),), 'fake', {}),\n",
    "    ParseResult((os.path.join('d', 'b.in'),), 'fake', {}),\n",
    "    ParseResult((os.path.join('e', 'a.in'),), 'fake', {})\n",
    "]"
   ]
  },
  {
   "cell_type": "code",
   "execution_count": 3,
   "metadata": {},
   "outputs": [
    {
     "data": {
      "text/plain": [
       "[ParseResult(group=('a.in',), parser='fake', metadata={}),\n",
       " ParseResult(group=('d\\\\a.in', 'a.in'), parser='fake', metadata={}),\n",
       " ParseResult(group=('d\\\\a.in',), parser='fake', metadata={}),\n",
       " ParseResult(group=('d\\\\b.in',), parser='fake', metadata={}),\n",
       " ParseResult(group=('e\\\\a.in',), parser='fake', metadata={})]"
      ]
     },
     "execution_count": 3,
     "metadata": {},
     "output_type": "execute_result"
    }
   ],
   "source": [
    "example_files"
   ]
  },
  {
   "cell_type": "markdown",
   "metadata": {},
   "source": [
    "## Illustrate Grouping Mechanisms\n",
    "All of our grouping mechanisms return a generator object to reduce memory requirements. \n",
    "You can still treat them as lists within loops and other operations that use iterators."
   ]
  },
  {
   "cell_type": "markdown",
   "metadata": {},
   "source": [
    "### Group by Directory\n",
    "One option for MDF users is to group files by directory"
   ]
  },
  {
   "cell_type": "code",
   "execution_count": 4,
   "metadata": {},
   "outputs": [
    {
     "name": "stdout",
     "output_type": "stream",
     "text": [
      "Group 1: [ParseResult(group=('a.in',), parser='fake', metadata={}), ParseResult(group=('d\\\\a.in', 'a.in'), parser='fake', metadata={})]\n",
      "Group 2: [ParseResult(group=('d\\\\a.in',), parser='fake', metadata={}), ParseResult(group=('d\\\\b.in',), parser='fake', metadata={})]\n",
      "Group 3: [ParseResult(group=('e\\\\a.in',), parser='fake', metadata={})]\n"
     ]
    }
   ],
   "source": [
    "for i, group in enumerate(groupby_directory(example_files)):\n",
    "    print(f'Group {i+1}: {group}')"
   ]
  },
  {
   "cell_type": "markdown",
   "metadata": {},
   "source": [
    "Group by directory produces three groups.\n",
    "\n",
    "- Group 1 contains parser results that include a result from `a.in` and a group of files (`a.in`, `d/a.in`). The directory of a group of files is their [common path](https://docs.python.org/3/library/os.path.html#os.path.commonpath).\n",
    "- Group 2 contains files that are in directory `d`. Note that `d/a.in` appears in multiple parsing records that have different directories due to the \"common path\" ruls and therefore appears in multiple groups.\n",
    "- Group 3 contains the only record in directory `e`."
   ]
  },
  {
   "cell_type": "markdown",
   "metadata": {},
   "source": [
    "## Group by File\n",
    "The MDF merges all metadata records from a single file into a single record.\n",
    "The `groupby_file` operation supports this functionality"
   ]
  },
  {
   "cell_type": "code",
   "execution_count": 5,
   "metadata": {},
   "outputs": [
    {
     "name": "stdout",
     "output_type": "stream",
     "text": [
      "Group 1: [ParseResult(group=('e\\\\a.in',), parser='fake', metadata={})]\n",
      "Group 2: [ParseResult(group=('d\\\\b.in',), parser='fake', metadata={})]\n",
      "Group 3: [ParseResult(group=('d\\\\a.in',), parser='fake', metadata={}), ParseResult(group=('a.in',), parser='fake', metadata={}), ParseResult(group=('d\\\\a.in', 'a.in'), parser='fake', metadata={})]\n"
     ]
    }
   ],
   "source": [
    "for i, group in enumerate(groupby_file(example_files)):\n",
    "    print(f'Group {i+1}: {group}')"
   ]
  },
  {
   "cell_type": "markdown",
   "metadata": {},
   "source": [
    "Group by file produces three groups:\n",
    "\n",
    "- Group 1 contains 1 record `e/a.in`, as it is the only record that contains the file\n",
    "- Group 2 contains 1 record `e/b.in`, as it is the only record that contains the file\n",
    "- Group 3 contains 3 records. Records 0 and 1 share `a.in` in common, and records 1 and 2 share `d\\a.in`. All three records are therefore grouped together"
   ]
  },
  {
   "cell_type": "code",
   "execution_count": null,
   "metadata": {
    "collapsed": true
   },
   "outputs": [],
   "source": []
  }
 ],
 "metadata": {
  "kernelspec": {
   "display_name": "Python 3",
   "language": "python",
   "name": "python3"
  },
  "language_info": {
   "codemirror_mode": {
    "name": "ipython",
    "version": 3
   },
   "file_extension": ".py",
   "mimetype": "text/x-python",
   "name": "python",
   "nbconvert_exporter": "python",
   "pygments_lexer": "ipython3",
   "version": "3.6.8"
  }
 },
 "nbformat": 4,
 "nbformat_minor": 2
}
